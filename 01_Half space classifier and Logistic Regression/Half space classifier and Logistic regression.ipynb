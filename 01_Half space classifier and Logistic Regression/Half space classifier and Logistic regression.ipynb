{
 "cells": [
  {
   "cell_type": "markdown",
   "metadata": {},
   "source": [
    "# Half space classifier and Logistic Regression"
   ]
  },
  {
   "cell_type": "markdown",
   "metadata": {},
   "source": [
    "The Dataset used for this assignment is the Wine Quality Binary classification dataset from Kaggle (https://www.kaggle.com/nareshbhat/wine-quality-binary-classification). This Data set contains the information related to the various factors affecting the quality of red wine.<br>\n",
    "Number of Instances: 1600<br>\n",
    "Missing values: NA<br>\n",
    "Number of Attributes: 12<br>\n",
    "Attribute Information:<br>\n",
    "Input variables: (all numeric valued)<br>\n",
    "1 - fixed acidity<br>\n",
    "2 - volatile acidity<br>\n",
    "3 - citric acid<br>\n",
    "4 - residual sugar<br>\n",
    "5 - chlorides<br>\n",
    "6 - free sulfur dioxide<br>\n",
    "7 - total sulfur dioxide<br>\n",
    "8 - density<br>\n",
    "9 - pH<br>\n",
    "10 - sulphates<br>\n",
    "11 – alcohol<br>\n",
    "\n",
    "Output variable : (detect whether the quality is good or bad)<br> \n",
    "12 - quality (0-bad, 1-good)<br>"
   ]
  },
  {
   "cell_type": "markdown",
   "metadata": {},
   "source": [
    "#### Import the necessary libraries"
   ]
  },
  {
   "cell_type": "code",
   "execution_count": 585,
   "metadata": {},
   "outputs": [],
   "source": [
    "import pandas as pd\n",
    "import numpy as np\n",
    "import matplotlib.pyplot as plt \n",
    "import seaborn as sns\n",
    "import warnings\n",
    "warnings.filterwarnings('ignore')"
   ]
  },
  {
   "cell_type": "markdown",
   "metadata": {},
   "source": [
    "#### Read the csv file"
   ]
  },
  {
   "cell_type": "code",
   "execution_count": 586,
   "metadata": {},
   "outputs": [
    {
     "data": {
      "text/html": [
       "<div>\n",
       "<style scoped>\n",
       "    .dataframe tbody tr th:only-of-type {\n",
       "        vertical-align: middle;\n",
       "    }\n",
       "\n",
       "    .dataframe tbody tr th {\n",
       "        vertical-align: top;\n",
       "    }\n",
       "\n",
       "    .dataframe thead th {\n",
       "        text-align: right;\n",
       "    }\n",
       "</style>\n",
       "<table border=\"1\" class=\"dataframe\">\n",
       "  <thead>\n",
       "    <tr style=\"text-align: right;\">\n",
       "      <th></th>\n",
       "      <th>fixed acidity</th>\n",
       "      <th>volatile acidity</th>\n",
       "      <th>citric acid</th>\n",
       "      <th>residual sugar</th>\n",
       "      <th>chlorides</th>\n",
       "      <th>free sulfur dioxide</th>\n",
       "      <th>total sulfur dioxide</th>\n",
       "      <th>density</th>\n",
       "      <th>pH</th>\n",
       "      <th>sulphates</th>\n",
       "      <th>alcohol</th>\n",
       "      <th>quality</th>\n",
       "    </tr>\n",
       "  </thead>\n",
       "  <tbody>\n",
       "    <tr>\n",
       "      <th>0</th>\n",
       "      <td>7.4</td>\n",
       "      <td>0.70</td>\n",
       "      <td>0.00</td>\n",
       "      <td>1.9</td>\n",
       "      <td>0.076</td>\n",
       "      <td>11.0</td>\n",
       "      <td>34.0</td>\n",
       "      <td>0.9978</td>\n",
       "      <td>3.51</td>\n",
       "      <td>0.56</td>\n",
       "      <td>9.4</td>\n",
       "      <td>bad</td>\n",
       "    </tr>\n",
       "    <tr>\n",
       "      <th>1</th>\n",
       "      <td>7.8</td>\n",
       "      <td>0.88</td>\n",
       "      <td>0.00</td>\n",
       "      <td>2.6</td>\n",
       "      <td>0.098</td>\n",
       "      <td>25.0</td>\n",
       "      <td>67.0</td>\n",
       "      <td>0.9968</td>\n",
       "      <td>3.20</td>\n",
       "      <td>0.68</td>\n",
       "      <td>9.8</td>\n",
       "      <td>bad</td>\n",
       "    </tr>\n",
       "    <tr>\n",
       "      <th>2</th>\n",
       "      <td>7.8</td>\n",
       "      <td>0.76</td>\n",
       "      <td>0.04</td>\n",
       "      <td>2.3</td>\n",
       "      <td>0.092</td>\n",
       "      <td>15.0</td>\n",
       "      <td>54.0</td>\n",
       "      <td>0.9970</td>\n",
       "      <td>3.26</td>\n",
       "      <td>0.65</td>\n",
       "      <td>9.8</td>\n",
       "      <td>bad</td>\n",
       "    </tr>\n",
       "    <tr>\n",
       "      <th>3</th>\n",
       "      <td>11.2</td>\n",
       "      <td>0.28</td>\n",
       "      <td>0.56</td>\n",
       "      <td>1.9</td>\n",
       "      <td>0.075</td>\n",
       "      <td>17.0</td>\n",
       "      <td>60.0</td>\n",
       "      <td>0.9980</td>\n",
       "      <td>3.16</td>\n",
       "      <td>0.58</td>\n",
       "      <td>9.8</td>\n",
       "      <td>good</td>\n",
       "    </tr>\n",
       "    <tr>\n",
       "      <th>4</th>\n",
       "      <td>7.4</td>\n",
       "      <td>0.70</td>\n",
       "      <td>0.00</td>\n",
       "      <td>1.9</td>\n",
       "      <td>0.076</td>\n",
       "      <td>11.0</td>\n",
       "      <td>34.0</td>\n",
       "      <td>0.9978</td>\n",
       "      <td>3.51</td>\n",
       "      <td>0.56</td>\n",
       "      <td>9.4</td>\n",
       "      <td>bad</td>\n",
       "    </tr>\n",
       "  </tbody>\n",
       "</table>\n",
       "</div>"
      ],
      "text/plain": [
       "   fixed acidity  volatile acidity  citric acid  residual sugar  chlorides  \\\n",
       "0            7.4              0.70         0.00             1.9      0.076   \n",
       "1            7.8              0.88         0.00             2.6      0.098   \n",
       "2            7.8              0.76         0.04             2.3      0.092   \n",
       "3           11.2              0.28         0.56             1.9      0.075   \n",
       "4            7.4              0.70         0.00             1.9      0.076   \n",
       "\n",
       "   free sulfur dioxide  total sulfur dioxide  density    pH  sulphates  \\\n",
       "0                 11.0                  34.0   0.9978  3.51       0.56   \n",
       "1                 25.0                  67.0   0.9968  3.20       0.68   \n",
       "2                 15.0                  54.0   0.9970  3.26       0.65   \n",
       "3                 17.0                  60.0   0.9980  3.16       0.58   \n",
       "4                 11.0                  34.0   0.9978  3.51       0.56   \n",
       "\n",
       "   alcohol quality  \n",
       "0      9.4     bad  \n",
       "1      9.8     bad  \n",
       "2      9.8     bad  \n",
       "3      9.8    good  \n",
       "4      9.4     bad  "
      ]
     },
     "execution_count": 586,
     "metadata": {},
     "output_type": "execute_result"
    }
   ],
   "source": [
    "df=pd.read_csv(\"wine.csv\")\n",
    "df.head()"
   ]
  },
  {
   "cell_type": "code",
   "execution_count": 587,
   "metadata": {},
   "outputs": [
    {
     "name": "stdout",
     "output_type": "stream",
     "text": [
      "<class 'pandas.core.frame.DataFrame'>\n",
      "RangeIndex: 1599 entries, 0 to 1598\n",
      "Data columns (total 12 columns):\n",
      "fixed acidity           1599 non-null float64\n",
      "volatile acidity        1599 non-null float64\n",
      "citric acid             1599 non-null float64\n",
      "residual sugar          1599 non-null float64\n",
      "chlorides               1599 non-null float64\n",
      "free sulfur dioxide     1599 non-null float64\n",
      "total sulfur dioxide    1599 non-null float64\n",
      "density                 1599 non-null float64\n",
      "pH                      1599 non-null float64\n",
      "sulphates               1599 non-null float64\n",
      "alcohol                 1599 non-null float64\n",
      "quality                 1599 non-null object\n",
      "dtypes: float64(11), object(1)\n",
      "memory usage: 150.0+ KB\n"
     ]
    }
   ],
   "source": [
    "df.info()"
   ]
  },
  {
   "cell_type": "markdown",
   "metadata": {},
   "source": [
    "#### Data preprocessing"
   ]
  },
  {
   "cell_type": "code",
   "execution_count": 588,
   "metadata": {},
   "outputs": [
    {
     "data": {
      "text/html": [
       "<div>\n",
       "<style scoped>\n",
       "    .dataframe tbody tr th:only-of-type {\n",
       "        vertical-align: middle;\n",
       "    }\n",
       "\n",
       "    .dataframe tbody tr th {\n",
       "        vertical-align: top;\n",
       "    }\n",
       "\n",
       "    .dataframe thead th {\n",
       "        text-align: right;\n",
       "    }\n",
       "</style>\n",
       "<table border=\"1\" class=\"dataframe\">\n",
       "  <thead>\n",
       "    <tr style=\"text-align: right;\">\n",
       "      <th></th>\n",
       "      <th>fixed acidity</th>\n",
       "      <th>volatile acidity</th>\n",
       "      <th>citric acid</th>\n",
       "      <th>residual sugar</th>\n",
       "      <th>chlorides</th>\n",
       "      <th>free sulfur dioxide</th>\n",
       "      <th>total sulfur dioxide</th>\n",
       "      <th>density</th>\n",
       "      <th>pH</th>\n",
       "      <th>sulphates</th>\n",
       "      <th>alcohol</th>\n",
       "      <th>quality</th>\n",
       "    </tr>\n",
       "  </thead>\n",
       "  <tbody>\n",
       "    <tr>\n",
       "      <th>0</th>\n",
       "      <td>7.4</td>\n",
       "      <td>0.70</td>\n",
       "      <td>0.00</td>\n",
       "      <td>1.9</td>\n",
       "      <td>0.076</td>\n",
       "      <td>11.0</td>\n",
       "      <td>34.0</td>\n",
       "      <td>0.9978</td>\n",
       "      <td>3.51</td>\n",
       "      <td>0.56</td>\n",
       "      <td>9.4</td>\n",
       "      <td>0</td>\n",
       "    </tr>\n",
       "    <tr>\n",
       "      <th>1</th>\n",
       "      <td>7.8</td>\n",
       "      <td>0.88</td>\n",
       "      <td>0.00</td>\n",
       "      <td>2.6</td>\n",
       "      <td>0.098</td>\n",
       "      <td>25.0</td>\n",
       "      <td>67.0</td>\n",
       "      <td>0.9968</td>\n",
       "      <td>3.20</td>\n",
       "      <td>0.68</td>\n",
       "      <td>9.8</td>\n",
       "      <td>0</td>\n",
       "    </tr>\n",
       "    <tr>\n",
       "      <th>2</th>\n",
       "      <td>7.8</td>\n",
       "      <td>0.76</td>\n",
       "      <td>0.04</td>\n",
       "      <td>2.3</td>\n",
       "      <td>0.092</td>\n",
       "      <td>15.0</td>\n",
       "      <td>54.0</td>\n",
       "      <td>0.9970</td>\n",
       "      <td>3.26</td>\n",
       "      <td>0.65</td>\n",
       "      <td>9.8</td>\n",
       "      <td>0</td>\n",
       "    </tr>\n",
       "    <tr>\n",
       "      <th>3</th>\n",
       "      <td>11.2</td>\n",
       "      <td>0.28</td>\n",
       "      <td>0.56</td>\n",
       "      <td>1.9</td>\n",
       "      <td>0.075</td>\n",
       "      <td>17.0</td>\n",
       "      <td>60.0</td>\n",
       "      <td>0.9980</td>\n",
       "      <td>3.16</td>\n",
       "      <td>0.58</td>\n",
       "      <td>9.8</td>\n",
       "      <td>1</td>\n",
       "    </tr>\n",
       "    <tr>\n",
       "      <th>4</th>\n",
       "      <td>7.4</td>\n",
       "      <td>0.70</td>\n",
       "      <td>0.00</td>\n",
       "      <td>1.9</td>\n",
       "      <td>0.076</td>\n",
       "      <td>11.0</td>\n",
       "      <td>34.0</td>\n",
       "      <td>0.9978</td>\n",
       "      <td>3.51</td>\n",
       "      <td>0.56</td>\n",
       "      <td>9.4</td>\n",
       "      <td>0</td>\n",
       "    </tr>\n",
       "  </tbody>\n",
       "</table>\n",
       "</div>"
      ],
      "text/plain": [
       "   fixed acidity  volatile acidity  citric acid  residual sugar  chlorides  \\\n",
       "0            7.4              0.70         0.00             1.9      0.076   \n",
       "1            7.8              0.88         0.00             2.6      0.098   \n",
       "2            7.8              0.76         0.04             2.3      0.092   \n",
       "3           11.2              0.28         0.56             1.9      0.075   \n",
       "4            7.4              0.70         0.00             1.9      0.076   \n",
       "\n",
       "   free sulfur dioxide  total sulfur dioxide  density    pH  sulphates  \\\n",
       "0                 11.0                  34.0   0.9978  3.51       0.56   \n",
       "1                 25.0                  67.0   0.9968  3.20       0.68   \n",
       "2                 15.0                  54.0   0.9970  3.26       0.65   \n",
       "3                 17.0                  60.0   0.9980  3.16       0.58   \n",
       "4                 11.0                  34.0   0.9978  3.51       0.56   \n",
       "\n",
       "   alcohol  quality  \n",
       "0      9.4        0  \n",
       "1      9.8        0  \n",
       "2      9.8        0  \n",
       "3      9.8        1  \n",
       "4      9.4        0  "
      ]
     },
     "execution_count": 588,
     "metadata": {},
     "output_type": "execute_result"
    }
   ],
   "source": [
    "#preprocessing\n",
    "#The quality column in the dataset has to be mapped as- 0 for bad and 1 for good.\n",
    "df = df.replace({'quality': {'good': 1, 'bad': 0}})\n",
    "df.head()"
   ]
  },
  {
   "cell_type": "code",
   "execution_count": 589,
   "metadata": {},
   "outputs": [
    {
     "data": {
      "text/plain": [
       "False"
      ]
     },
     "execution_count": 589,
     "metadata": {},
     "output_type": "execute_result"
    }
   ],
   "source": [
    "#checking for missing values\n",
    "df.isna().any().any()"
   ]
  },
  {
   "cell_type": "code",
   "execution_count": 590,
   "metadata": {},
   "outputs": [
    {
     "data": {
      "text/plain": [
       "(1599, 12)"
      ]
     },
     "execution_count": 590,
     "metadata": {},
     "output_type": "execute_result"
    }
   ],
   "source": [
    "df.shape"
   ]
  },
  {
   "cell_type": "code",
   "execution_count": 591,
   "metadata": {},
   "outputs": [
    {
     "data": {
      "text/html": [
       "<div>\n",
       "<style scoped>\n",
       "    .dataframe tbody tr th:only-of-type {\n",
       "        vertical-align: middle;\n",
       "    }\n",
       "\n",
       "    .dataframe tbody tr th {\n",
       "        vertical-align: top;\n",
       "    }\n",
       "\n",
       "    .dataframe thead th {\n",
       "        text-align: right;\n",
       "    }\n",
       "</style>\n",
       "<table border=\"1\" class=\"dataframe\">\n",
       "  <thead>\n",
       "    <tr style=\"text-align: right;\">\n",
       "      <th></th>\n",
       "      <th>fixed acidity</th>\n",
       "      <th>volatile acidity</th>\n",
       "      <th>citric acid</th>\n",
       "      <th>residual sugar</th>\n",
       "      <th>chlorides</th>\n",
       "      <th>free sulfur dioxide</th>\n",
       "      <th>total sulfur dioxide</th>\n",
       "      <th>density</th>\n",
       "      <th>pH</th>\n",
       "      <th>sulphates</th>\n",
       "      <th>alcohol</th>\n",
       "      <th>quality</th>\n",
       "    </tr>\n",
       "  </thead>\n",
       "  <tbody>\n",
       "    <tr>\n",
       "      <th>count</th>\n",
       "      <td>1599.000000</td>\n",
       "      <td>1599.000000</td>\n",
       "      <td>1599.000000</td>\n",
       "      <td>1599.000000</td>\n",
       "      <td>1599.000000</td>\n",
       "      <td>1599.000000</td>\n",
       "      <td>1599.000000</td>\n",
       "      <td>1599.000000</td>\n",
       "      <td>1599.000000</td>\n",
       "      <td>1599.000000</td>\n",
       "      <td>1599.000000</td>\n",
       "      <td>1599.000000</td>\n",
       "    </tr>\n",
       "    <tr>\n",
       "      <th>mean</th>\n",
       "      <td>8.319637</td>\n",
       "      <td>0.527821</td>\n",
       "      <td>0.270976</td>\n",
       "      <td>2.538806</td>\n",
       "      <td>0.087467</td>\n",
       "      <td>15.874922</td>\n",
       "      <td>46.467792</td>\n",
       "      <td>0.996747</td>\n",
       "      <td>3.311113</td>\n",
       "      <td>0.658149</td>\n",
       "      <td>10.422983</td>\n",
       "      <td>0.534709</td>\n",
       "    </tr>\n",
       "    <tr>\n",
       "      <th>std</th>\n",
       "      <td>1.741096</td>\n",
       "      <td>0.179060</td>\n",
       "      <td>0.194801</td>\n",
       "      <td>1.409928</td>\n",
       "      <td>0.047065</td>\n",
       "      <td>10.460157</td>\n",
       "      <td>32.895324</td>\n",
       "      <td>0.001887</td>\n",
       "      <td>0.154386</td>\n",
       "      <td>0.169507</td>\n",
       "      <td>1.065668</td>\n",
       "      <td>0.498950</td>\n",
       "    </tr>\n",
       "    <tr>\n",
       "      <th>min</th>\n",
       "      <td>4.600000</td>\n",
       "      <td>0.120000</td>\n",
       "      <td>0.000000</td>\n",
       "      <td>0.900000</td>\n",
       "      <td>0.012000</td>\n",
       "      <td>1.000000</td>\n",
       "      <td>6.000000</td>\n",
       "      <td>0.990070</td>\n",
       "      <td>2.740000</td>\n",
       "      <td>0.330000</td>\n",
       "      <td>8.400000</td>\n",
       "      <td>0.000000</td>\n",
       "    </tr>\n",
       "    <tr>\n",
       "      <th>25%</th>\n",
       "      <td>7.100000</td>\n",
       "      <td>0.390000</td>\n",
       "      <td>0.090000</td>\n",
       "      <td>1.900000</td>\n",
       "      <td>0.070000</td>\n",
       "      <td>7.000000</td>\n",
       "      <td>22.000000</td>\n",
       "      <td>0.995600</td>\n",
       "      <td>3.210000</td>\n",
       "      <td>0.550000</td>\n",
       "      <td>9.500000</td>\n",
       "      <td>0.000000</td>\n",
       "    </tr>\n",
       "    <tr>\n",
       "      <th>50%</th>\n",
       "      <td>7.900000</td>\n",
       "      <td>0.520000</td>\n",
       "      <td>0.260000</td>\n",
       "      <td>2.200000</td>\n",
       "      <td>0.079000</td>\n",
       "      <td>14.000000</td>\n",
       "      <td>38.000000</td>\n",
       "      <td>0.996750</td>\n",
       "      <td>3.310000</td>\n",
       "      <td>0.620000</td>\n",
       "      <td>10.200000</td>\n",
       "      <td>1.000000</td>\n",
       "    </tr>\n",
       "    <tr>\n",
       "      <th>75%</th>\n",
       "      <td>9.200000</td>\n",
       "      <td>0.640000</td>\n",
       "      <td>0.420000</td>\n",
       "      <td>2.600000</td>\n",
       "      <td>0.090000</td>\n",
       "      <td>21.000000</td>\n",
       "      <td>62.000000</td>\n",
       "      <td>0.997835</td>\n",
       "      <td>3.400000</td>\n",
       "      <td>0.730000</td>\n",
       "      <td>11.100000</td>\n",
       "      <td>1.000000</td>\n",
       "    </tr>\n",
       "    <tr>\n",
       "      <th>max</th>\n",
       "      <td>15.900000</td>\n",
       "      <td>1.580000</td>\n",
       "      <td>1.000000</td>\n",
       "      <td>15.500000</td>\n",
       "      <td>0.611000</td>\n",
       "      <td>72.000000</td>\n",
       "      <td>289.000000</td>\n",
       "      <td>1.003690</td>\n",
       "      <td>4.010000</td>\n",
       "      <td>2.000000</td>\n",
       "      <td>14.900000</td>\n",
       "      <td>1.000000</td>\n",
       "    </tr>\n",
       "  </tbody>\n",
       "</table>\n",
       "</div>"
      ],
      "text/plain": [
       "       fixed acidity  volatile acidity  citric acid  residual sugar  \\\n",
       "count    1599.000000       1599.000000  1599.000000     1599.000000   \n",
       "mean        8.319637          0.527821     0.270976        2.538806   \n",
       "std         1.741096          0.179060     0.194801        1.409928   \n",
       "min         4.600000          0.120000     0.000000        0.900000   \n",
       "25%         7.100000          0.390000     0.090000        1.900000   \n",
       "50%         7.900000          0.520000     0.260000        2.200000   \n",
       "75%         9.200000          0.640000     0.420000        2.600000   \n",
       "max        15.900000          1.580000     1.000000       15.500000   \n",
       "\n",
       "         chlorides  free sulfur dioxide  total sulfur dioxide      density  \\\n",
       "count  1599.000000          1599.000000           1599.000000  1599.000000   \n",
       "mean      0.087467            15.874922             46.467792     0.996747   \n",
       "std       0.047065            10.460157             32.895324     0.001887   \n",
       "min       0.012000             1.000000              6.000000     0.990070   \n",
       "25%       0.070000             7.000000             22.000000     0.995600   \n",
       "50%       0.079000            14.000000             38.000000     0.996750   \n",
       "75%       0.090000            21.000000             62.000000     0.997835   \n",
       "max       0.611000            72.000000            289.000000     1.003690   \n",
       "\n",
       "                pH    sulphates      alcohol      quality  \n",
       "count  1599.000000  1599.000000  1599.000000  1599.000000  \n",
       "mean      3.311113     0.658149    10.422983     0.534709  \n",
       "std       0.154386     0.169507     1.065668     0.498950  \n",
       "min       2.740000     0.330000     8.400000     0.000000  \n",
       "25%       3.210000     0.550000     9.500000     0.000000  \n",
       "50%       3.310000     0.620000    10.200000     1.000000  \n",
       "75%       3.400000     0.730000    11.100000     1.000000  \n",
       "max       4.010000     2.000000    14.900000     1.000000  "
      ]
     },
     "execution_count": 591,
     "metadata": {},
     "output_type": "execute_result"
    }
   ],
   "source": [
    "# Overall statistics\n",
    "df.describe()"
   ]
  },
  {
   "cell_type": "code",
   "execution_count": 592,
   "metadata": {},
   "outputs": [
    {
     "data": {
      "text/plain": [
       "<matplotlib.axes._subplots.AxesSubplot at 0x2613507d898>"
      ]
     },
     "execution_count": 592,
     "metadata": {},
     "output_type": "execute_result"
    },
    {
     "data": {
      "image/png": "[encoded data removed]",
      "text/plain": [
       "<Figure size 432x288 with 1 Axes>"
      ]
     },
     "metadata": {
      "needs_background": "light"
     },
     "output_type": "display_data"
    }
   ],
   "source": [
    "#We will use a countplot to visualize the count of observations for ‘quality’ column.\n",
    "sns.countplot(x ='quality', data = df)"
   ]
  },
  {
   "cell_type": "code",
   "execution_count": 593,
   "metadata": {},
   "outputs": [
    {
     "data": {
      "image/png": "[encoded data removed]",
      "text/plain": [
       "<Figure size 432x288 with 1 Axes>"
      ]
     },
     "metadata": {
      "needs_background": "light"
     },
     "output_type": "display_data"
    }
   ],
   "source": [
    "#Distribution of the column – alcohol\n",
    "data = df['alcohol']\n",
    "sns.distplot(data)\n",
    "plt.show()"
   ]
  },
  {
   "cell_type": "code",
   "execution_count": 594,
   "metadata": {},
   "outputs": [],
   "source": [
    "#features used for classification include – \n",
    "#alcohol, sulphates, total sulphur dioxide, volatile acidity, citric acid and residual sugar.\n",
    "#target=quality\n",
    "features=df.iloc[:,0:11]\n",
    "target = df.iloc[:,11]"
   ]
  },
  {
   "cell_type": "markdown",
   "metadata": {},
   "source": [
    "#### Feature importance"
   ]
  },
  {
   "cell_type": "code",
   "execution_count": 595,
   "metadata": {},
   "outputs": [
    {
     "name": "stdout",
     "output_type": "stream",
     "text": [
      "[0.07229425 0.09223196 0.07178958 0.06947729 0.0729051  0.06094062\n",
      " 0.0942177  0.08111459 0.06909687 0.11150088 0.20443116]\n"
     ]
    },
    {
     "data": {
      "image/png": "[encoded data removed]",
      "text/plain": [
       "<Figure size 432x288 with 1 Axes>"
      ]
     },
     "metadata": {
      "needs_background": "light"
     },
     "output_type": "display_data"
    }
   ],
   "source": [
    "import warnings\n",
    "warnings.filterwarnings('ignore')\n",
    "from sklearn.ensemble import ExtraTreesClassifier\n",
    "model = ExtraTreesClassifier()\n",
    "model.fit(features,target)\n",
    "print(model.feature_importances_) \n",
    "imp = pd.Series(model.feature_importances_, index=features.columns)\n",
    "imp.nlargest(10).plot(kind='barh')\n",
    "plt.show()"
   ]
  },
  {
   "cell_type": "code",
   "execution_count": 596,
   "metadata": {},
   "outputs": [],
   "source": [
    "#features=df.iloc[:,0:11]\n",
    "features=df.iloc[:,[10,9,6,1,2,3]]\n",
    "target = df.iloc[:,11]"
   ]
  },
  {
   "cell_type": "markdown",
   "metadata": {},
   "source": [
    "#### Standardize the feature vectors"
   ]
  },
  {
   "cell_type": "code",
   "execution_count": 597,
   "metadata": {},
   "outputs": [],
   "source": [
    "#standardize feature vectors\n",
    "from sklearn.preprocessing import StandardScaler"
   ]
  },
  {
   "cell_type": "code",
   "execution_count": 598,
   "metadata": {},
   "outputs": [],
   "source": [
    "#StandardScaler() will rescale the feature values so that their standard deviation is 1 and .mean is 0.\n",
    "sc=StandardScaler()"
   ]
  },
  {
   "cell_type": "code",
   "execution_count": 599,
   "metadata": {},
   "outputs": [],
   "source": [
    "scaled_features=sc.fit_transform(features)"
   ]
  },
  {
   "cell_type": "markdown",
   "metadata": {},
   "source": [
    "## 1. Half space classifier using Perceptron algorithm"
   ]
  },
  {
   "cell_type": "markdown",
   "metadata": {},
   "source": [
    "### Half space classifier using Perceptron algorithm with the split 70:30"
   ]
  },
  {
   "cell_type": "code",
   "execution_count": 602,
   "metadata": {},
   "outputs": [],
   "source": [
    "#split the dataset\n",
    "from sklearn.model_selection import train_test_split"
   ]
  },
  {
   "cell_type": "code",
   "execution_count": 603,
   "metadata": {},
   "outputs": [],
   "source": [
    "#70% training data\n",
    "X_train, X_test, y_train, y_test = train_test_split(scaled_features, target, test_size=0.3, random_state=42) "
   ]
  },
  {
   "cell_type": "code",
   "execution_count": 604,
   "metadata": {},
   "outputs": [],
   "source": [
    "a=0.1\n",
    "epochs=1\n",
    "w = [0.01] *7  #11 for features and one for Bias\n",
    "\n",
    "def Sum(train,wt):  #evaluations\n",
    "    pred=0\n",
    "    for i in range(len(train)):\n",
    "        pred+=train[i] * wt[i]\n",
    "    pred+=wt[6]\n",
    "    if pred>1:\n",
    "        return 1\n",
    "    else:\n",
    "        return 0\n",
    "\n",
    "for epochs in range(epochs):    #training the data\n",
    "    for i in range(len(X_train)):\n",
    "        pre=Sum(X_train[i],w)\n",
    "        for j in range(6):\n",
    "            w[j]=w[j]+a*(y_train.iloc[i]-pre)*X_train[i,j]\n",
    "        w[6]=w[6]+a*(y_train.iloc[i]-pre)\n",
    "    \n",
    "\n",
    "result=[]\n",
    "for i in X_test:\n",
    "    result.append(Sum(i,w))"
   ]
  },
  {
   "cell_type": "markdown",
   "metadata": {},
   "source": [
    "#### Evaluation"
   ]
  },
  {
   "cell_type": "code",
   "execution_count": 605,
   "metadata": {},
   "outputs": [],
   "source": [
    "from sklearn.metrics import classification_report\n",
    "from sklearn import metrics\n",
    "from sklearn.metrics import accuracy_score"
   ]
  },
  {
   "cell_type": "code",
   "execution_count": 606,
   "metadata": {},
   "outputs": [
    {
     "name": "stdout",
     "output_type": "stream",
     "text": [
      "              precision    recall  f1-score   support\n",
      "\n",
      "           0       0.63      0.79      0.70       213\n",
      "           1       0.79      0.63      0.70       267\n",
      "\n",
      "    accuracy                           0.70       480\n",
      "   macro avg       0.71      0.71      0.70       480\n",
      "weighted avg       0.72      0.70      0.70       480\n",
      "\n"
     ]
    }
   ],
   "source": [
    "print(classification_report(y_test,result))"
   ]
  },
  {
   "cell_type": "code",
   "execution_count": 607,
   "metadata": {},
   "outputs": [
    {
     "data": {
      "text/html": [
       "<div>\n",
       "<style scoped>\n",
       "    .dataframe tbody tr th:only-of-type {\n",
       "        vertical-align: middle;\n",
       "    }\n",
       "\n",
       "    .dataframe tbody tr th {\n",
       "        vertical-align: top;\n",
       "    }\n",
       "\n",
       "    .dataframe thead th {\n",
       "        text-align: right;\n",
       "    }\n",
       "</style>\n",
       "<table border=\"1\" class=\"dataframe\">\n",
       "  <thead>\n",
       "    <tr style=\"text-align: right;\">\n",
       "      <th></th>\n",
       "      <th>Classifier</th>\n",
       "      <th>Accuracy</th>\n",
       "    </tr>\n",
       "  </thead>\n",
       "  <tbody>\n",
       "    <tr>\n",
       "      <th>0</th>\n",
       "      <td>Half Space Classifier(Perceptron) 70:30</td>\n",
       "      <td>0.702083</td>\n",
       "    </tr>\n",
       "  </tbody>\n",
       "</table>\n",
       "</div>"
      ],
      "text/plain": [
       "                                Classifier  Accuracy\n",
       "0  Half Space Classifier(Perceptron) 70:30  0.702083"
      ]
     },
     "execution_count": 607,
     "metadata": {},
     "output_type": "execute_result"
    }
   ],
   "source": [
    "Perfomance=pd.DataFrame(columns=['Classifier','Accuracy'])\n",
    "m=accuracy_score(y_test,result)\n",
    "Perfomance=Perfomance.append({\"Classifier\":\"Half Space Classifier(Perceptron) 70:30\",'Accuracy':m},ignore_index=True)\n",
    "Perfomance"
   ]
  },
  {
   "cell_type": "markdown",
   "metadata": {},
   "source": [
    "### Half space classifier using Perceptron algorithm with the split 80:20"
   ]
  },
  {
   "cell_type": "code",
   "execution_count": 608,
   "metadata": {},
   "outputs": [],
   "source": [
    "#80% training data\n",
    "X_train, X_test, y_train, y_test = train_test_split(scaled_features, target, test_size=0.2, random_state=42) "
   ]
  },
  {
   "cell_type": "code",
   "execution_count": 609,
   "metadata": {},
   "outputs": [],
   "source": [
    "a=0.1\n",
    "epochs=1\n",
    "w = [0.01] *7  #11 for features and one for Bias\n",
    "\n",
    "def Sum(train,wt):  #evaluations\n",
    "    pred=0\n",
    "    for i in range(len(train)):\n",
    "        pred+=train[i] * wt[i]\n",
    "    pred+=wt[6]\n",
    "    if pred>1:\n",
    "        return 1\n",
    "    else:\n",
    "        return 0\n",
    "\n",
    "for epochs in range(epochs):    #training the data\n",
    "    for i in range(len(X_train)):\n",
    "        pre=Sum(X_train[i],w)\n",
    "        for j in range(6):\n",
    "            w[j]=w[j]+a*(y_train.iloc[i]-pre)*X_train[i,j]\n",
    "        w[6]=w[6]+a*(y_train.iloc[i]-pre)\n",
    "    \n",
    "\n",
    "result=[]\n",
    "for i in X_test:\n",
    "    result.append(Sum(i,w))"
   ]
  },
  {
   "cell_type": "code",
   "execution_count": 610,
   "metadata": {},
   "outputs": [
    {
     "name": "stdout",
     "output_type": "stream",
     "text": [
      "              precision    recall  f1-score   support\n",
      "\n",
      "           0       0.64      0.76      0.69       141\n",
      "           1       0.78      0.66      0.72       179\n",
      "\n",
      "    accuracy                           0.71       320\n",
      "   macro avg       0.71      0.71      0.71       320\n",
      "weighted avg       0.72      0.71      0.71       320\n",
      "\n"
     ]
    }
   ],
   "source": [
    "print(classification_report(y_test,result))"
   ]
  },
  {
   "cell_type": "code",
   "execution_count": 611,
   "metadata": {},
   "outputs": [
    {
     "data": {
      "text/html": [
       "<div>\n",
       "<style scoped>\n",
       "    .dataframe tbody tr th:only-of-type {\n",
       "        vertical-align: middle;\n",
       "    }\n",
       "\n",
       "    .dataframe tbody tr th {\n",
       "        vertical-align: top;\n",
       "    }\n",
       "\n",
       "    .dataframe thead th {\n",
       "        text-align: right;\n",
       "    }\n",
       "</style>\n",
       "<table border=\"1\" class=\"dataframe\">\n",
       "  <thead>\n",
       "    <tr style=\"text-align: right;\">\n",
       "      <th></th>\n",
       "      <th>Classifier</th>\n",
       "      <th>Accuracy</th>\n",
       "    </tr>\n",
       "  </thead>\n",
       "  <tbody>\n",
       "    <tr>\n",
       "      <th>0</th>\n",
       "      <td>Half Space Classifier(Perceptron) 70:30</td>\n",
       "      <td>0.702083</td>\n",
       "    </tr>\n",
       "    <tr>\n",
       "      <th>1</th>\n",
       "      <td>Half Space Classifier(Perceptron) 80:20</td>\n",
       "      <td>0.706250</td>\n",
       "    </tr>\n",
       "  </tbody>\n",
       "</table>\n",
       "</div>"
      ],
      "text/plain": [
       "                                Classifier  Accuracy\n",
       "0  Half Space Classifier(Perceptron) 70:30  0.702083\n",
       "1  Half Space Classifier(Perceptron) 80:20  0.706250"
      ]
     },
     "execution_count": 611,
     "metadata": {},
     "output_type": "execute_result"
    }
   ],
   "source": [
    "m=accuracy_score(y_test,result)\n",
    "Perfomance=Perfomance.append({\"Classifier\":\"Half Space Classifier(Perceptron) 80:20\",'Accuracy':m},ignore_index=True)\n",
    "Perfomance"
   ]
  },
  {
   "cell_type": "markdown",
   "metadata": {},
   "source": [
    "### Half space classifier using Perceptron algorithm with the split 90:10"
   ]
  },
  {
   "cell_type": "code",
   "execution_count": 612,
   "metadata": {},
   "outputs": [],
   "source": [
    "#90% training data\n",
    "X_train, X_test, y_train, y_test = train_test_split(scaled_features, target, test_size=0.1, random_state=42) "
   ]
  },
  {
   "cell_type": "code",
   "execution_count": 613,
   "metadata": {},
   "outputs": [],
   "source": [
    "a=0.1\n",
    "epochs=1\n",
    "w = [0.01] *7  #11 for features and one for Bias\n",
    "\n",
    "def Sum(train,wt):  #evaluations\n",
    "    pred=0\n",
    "    for i in range(len(train)):\n",
    "        pred+=train[i] * wt[i]\n",
    "    pred+=wt[6]\n",
    "    if pred>1:\n",
    "        return 1\n",
    "    else:\n",
    "        return 0\n",
    "\n",
    "for epochs in range(epochs):    #training the data\n",
    "    for i in range(len(X_train)):\n",
    "        pre=Sum(X_train[i],w)\n",
    "        for j in range(6):\n",
    "            w[j]=w[j]+a*(y_train.iloc[i]-pre)*X_train[i,j]\n",
    "        w[6]=w[6]+a*(y_train.iloc[i]-pre)\n",
    "    \n",
    "\n",
    "result=[]\n",
    "for i in X_test:\n",
    "    result.append(Sum(i,w))"
   ]
  },
  {
   "cell_type": "code",
   "execution_count": 614,
   "metadata": {},
   "outputs": [
    {
     "name": "stdout",
     "output_type": "stream",
     "text": [
      "              precision    recall  f1-score   support\n",
      "\n",
      "           0       0.72      0.69      0.71        72\n",
      "           1       0.76      0.78      0.77        88\n",
      "\n",
      "    accuracy                           0.74       160\n",
      "   macro avg       0.74      0.74      0.74       160\n",
      "weighted avg       0.74      0.74      0.74       160\n",
      "\n"
     ]
    }
   ],
   "source": [
    "print(classification_report(y_test,result))"
   ]
  },
  {
   "cell_type": "code",
   "execution_count": 615,
   "metadata": {},
   "outputs": [
    {
     "data": {
      "text/html": [
       "<div>\n",
       "<style scoped>\n",
       "    .dataframe tbody tr th:only-of-type {\n",
       "        vertical-align: middle;\n",
       "    }\n",
       "\n",
       "    .dataframe tbody tr th {\n",
       "        vertical-align: top;\n",
       "    }\n",
       "\n",
       "    .dataframe thead th {\n",
       "        text-align: right;\n",
       "    }\n",
       "</style>\n",
       "<table border=\"1\" class=\"dataframe\">\n",
       "  <thead>\n",
       "    <tr style=\"text-align: right;\">\n",
       "      <th></th>\n",
       "      <th>Classifier</th>\n",
       "      <th>Accuracy</th>\n",
       "    </tr>\n",
       "  </thead>\n",
       "  <tbody>\n",
       "    <tr>\n",
       "      <th>0</th>\n",
       "      <td>Half Space Classifier(Perceptron) 70:30</td>\n",
       "      <td>0.702083</td>\n",
       "    </tr>\n",
       "    <tr>\n",
       "      <th>1</th>\n",
       "      <td>Half Space Classifier(Perceptron) 80:20</td>\n",
       "      <td>0.706250</td>\n",
       "    </tr>\n",
       "    <tr>\n",
       "      <th>2</th>\n",
       "      <td>Half Space Classifier(Perceptron) 90:10</td>\n",
       "      <td>0.743750</td>\n",
       "    </tr>\n",
       "  </tbody>\n",
       "</table>\n",
       "</div>"
      ],
      "text/plain": [
       "                                Classifier  Accuracy\n",
       "0  Half Space Classifier(Perceptron) 70:30  0.702083\n",
       "1  Half Space Classifier(Perceptron) 80:20  0.706250\n",
       "2  Half Space Classifier(Perceptron) 90:10  0.743750"
      ]
     },
     "execution_count": 615,
     "metadata": {},
     "output_type": "execute_result"
    }
   ],
   "source": [
    "m=accuracy_score(y_test,result)\n",
    "Perfomance=Perfomance.append({\"Classifier\":\"Half Space Classifier(Perceptron) 90:10\",'Accuracy':m},ignore_index=True)\n",
    "Perfomance"
   ]
  },
  {
   "cell_type": "markdown",
   "metadata": {},
   "source": [
    "## 2. Logistic regressing using Gradient Descent"
   ]
  },
  {
   "cell_type": "markdown",
   "metadata": {},
   "source": [
    "### Logistic regression using Standard Gradient Descent algorithm with split 70:30"
   ]
  },
  {
   "cell_type": "code",
   "execution_count": 616,
   "metadata": {},
   "outputs": [],
   "source": [
    "from sklearn.linear_model import LogisticRegression\n",
    "from sklearn.linear_model import SGDClassifier"
   ]
  },
  {
   "cell_type": "code",
   "execution_count": 617,
   "metadata": {},
   "outputs": [],
   "source": [
    "#70% training data\n",
    "X_train, X_test, y_train, y_test = train_test_split(scaled_features, target, test_size=0.3, random_state=42) "
   ]
  },
  {
   "cell_type": "code",
   "execution_count": 618,
   "metadata": {},
   "outputs": [
    {
     "data": {
      "text/plain": [
       "LogisticRegression(C=1.0, class_weight=None, dual=False, fit_intercept=True,\n",
       "                   intercept_scaling=1, l1_ratio=None, max_iter=100,\n",
       "                   multi_class='warn', n_jobs=None, penalty='l2',\n",
       "                   random_state=None, solver='warn', tol=0.0001, verbose=0,\n",
       "                   warm_start=False)"
      ]
     },
     "execution_count": 618,
     "metadata": {},
     "output_type": "execute_result"
    }
   ],
   "source": [
    "lr=LogisticRegression()\n",
    "lr.fit(X_train,y_train)"
   ]
  },
  {
   "cell_type": "code",
   "execution_count": 619,
   "metadata": {},
   "outputs": [
    {
     "name": "stdout",
     "output_type": "stream",
     "text": [
      "              precision    recall  f1-score   support\n",
      "\n",
      "           0       0.68      0.71      0.70       213\n",
      "           1       0.76      0.73      0.75       267\n",
      "\n",
      "    accuracy                           0.72       480\n",
      "   macro avg       0.72      0.72      0.72       480\n",
      "weighted avg       0.72      0.72      0.72       480\n",
      "\n"
     ]
    }
   ],
   "source": [
    "print(classification_report(y_test,lr.predict(X_test)))"
   ]
  },
  {
   "cell_type": "code",
   "execution_count": 620,
   "metadata": {},
   "outputs": [
    {
     "data": {
      "text/html": [
       "<div>\n",
       "<style scoped>\n",
       "    .dataframe tbody tr th:only-of-type {\n",
       "        vertical-align: middle;\n",
       "    }\n",
       "\n",
       "    .dataframe tbody tr th {\n",
       "        vertical-align: top;\n",
       "    }\n",
       "\n",
       "    .dataframe thead th {\n",
       "        text-align: right;\n",
       "    }\n",
       "</style>\n",
       "<table border=\"1\" class=\"dataframe\">\n",
       "  <thead>\n",
       "    <tr style=\"text-align: right;\">\n",
       "      <th></th>\n",
       "      <th>Classifier</th>\n",
       "      <th>Accuracy</th>\n",
       "    </tr>\n",
       "  </thead>\n",
       "  <tbody>\n",
       "    <tr>\n",
       "      <th>0</th>\n",
       "      <td>Half Space Classifier(Perceptron) 70:30</td>\n",
       "      <td>0.702083</td>\n",
       "    </tr>\n",
       "    <tr>\n",
       "      <th>1</th>\n",
       "      <td>Half Space Classifier(Perceptron) 80:20</td>\n",
       "      <td>0.706250</td>\n",
       "    </tr>\n",
       "    <tr>\n",
       "      <th>2</th>\n",
       "      <td>Half Space Classifier(Perceptron) 90:10</td>\n",
       "      <td>0.743750</td>\n",
       "    </tr>\n",
       "    <tr>\n",
       "      <th>3</th>\n",
       "      <td>Logistic regression 70:30</td>\n",
       "      <td>0.722917</td>\n",
       "    </tr>\n",
       "  </tbody>\n",
       "</table>\n",
       "</div>"
      ],
      "text/plain": [
       "                                Classifier  Accuracy\n",
       "0  Half Space Classifier(Perceptron) 70:30  0.702083\n",
       "1  Half Space Classifier(Perceptron) 80:20  0.706250\n",
       "2  Half Space Classifier(Perceptron) 90:10  0.743750\n",
       "3                Logistic regression 70:30  0.722917"
      ]
     },
     "execution_count": 620,
     "metadata": {},
     "output_type": "execute_result"
    }
   ],
   "source": [
    "m=accuracy_score(y_test,lr.predict(X_test))\n",
    "Perfomance=Perfomance.append({\"Classifier\":\"Logistic regression 70:30\",'Accuracy':m},ignore_index=True)\n",
    "Perfomance"
   ]
  },
  {
   "cell_type": "markdown",
   "metadata": {},
   "source": [
    "### Logistic regression using Standard Gradient Descent algorithm with split 80:20"
   ]
  },
  {
   "cell_type": "code",
   "execution_count": 621,
   "metadata": {},
   "outputs": [],
   "source": [
    "#80% training data\n",
    "X_train, X_test, y_train, y_test = train_test_split(scaled_features, target, test_size=0.2, random_state=42) "
   ]
  },
  {
   "cell_type": "code",
   "execution_count": 622,
   "metadata": {},
   "outputs": [
    {
     "data": {
      "text/plain": [
       "LogisticRegression(C=1.0, class_weight=None, dual=False, fit_intercept=True,\n",
       "                   intercept_scaling=1, l1_ratio=None, max_iter=100,\n",
       "                   multi_class='warn', n_jobs=None, penalty='l2',\n",
       "                   random_state=None, solver='warn', tol=0.0001, verbose=0,\n",
       "                   warm_start=False)"
      ]
     },
     "execution_count": 622,
     "metadata": {},
     "output_type": "execute_result"
    }
   ],
   "source": [
    "lr=LogisticRegression()\n",
    "lr.fit(X_train,y_train)"
   ]
  },
  {
   "cell_type": "code",
   "execution_count": 623,
   "metadata": {},
   "outputs": [
    {
     "name": "stdout",
     "output_type": "stream",
     "text": [
      "              precision    recall  f1-score   support\n",
      "\n",
      "           0       0.69      0.75      0.72       141\n",
      "           1       0.79      0.73      0.76       179\n",
      "\n",
      "    accuracy                           0.74       320\n",
      "   macro avg       0.74      0.74      0.74       320\n",
      "weighted avg       0.74      0.74      0.74       320\n",
      "\n"
     ]
    }
   ],
   "source": [
    "print(classification_report(y_test,lr.predict(X_test)))"
   ]
  },
  {
   "cell_type": "code",
   "execution_count": 624,
   "metadata": {},
   "outputs": [
    {
     "data": {
      "text/html": [
       "<div>\n",
       "<style scoped>\n",
       "    .dataframe tbody tr th:only-of-type {\n",
       "        vertical-align: middle;\n",
       "    }\n",
       "\n",
       "    .dataframe tbody tr th {\n",
       "        vertical-align: top;\n",
       "    }\n",
       "\n",
       "    .dataframe thead th {\n",
       "        text-align: right;\n",
       "    }\n",
       "</style>\n",
       "<table border=\"1\" class=\"dataframe\">\n",
       "  <thead>\n",
       "    <tr style=\"text-align: right;\">\n",
       "      <th></th>\n",
       "      <th>Classifier</th>\n",
       "      <th>Accuracy</th>\n",
       "    </tr>\n",
       "  </thead>\n",
       "  <tbody>\n",
       "    <tr>\n",
       "      <th>0</th>\n",
       "      <td>Half Space Classifier(Perceptron) 70:30</td>\n",
       "      <td>0.702083</td>\n",
       "    </tr>\n",
       "    <tr>\n",
       "      <th>1</th>\n",
       "      <td>Half Space Classifier(Perceptron) 80:20</td>\n",
       "      <td>0.706250</td>\n",
       "    </tr>\n",
       "    <tr>\n",
       "      <th>2</th>\n",
       "      <td>Half Space Classifier(Perceptron) 90:10</td>\n",
       "      <td>0.743750</td>\n",
       "    </tr>\n",
       "    <tr>\n",
       "      <th>3</th>\n",
       "      <td>Logistic regression 70:30</td>\n",
       "      <td>0.722917</td>\n",
       "    </tr>\n",
       "    <tr>\n",
       "      <th>4</th>\n",
       "      <td>Logistic regression 80:20</td>\n",
       "      <td>0.740625</td>\n",
       "    </tr>\n",
       "  </tbody>\n",
       "</table>\n",
       "</div>"
      ],
      "text/plain": [
       "                                Classifier  Accuracy\n",
       "0  Half Space Classifier(Perceptron) 70:30  0.702083\n",
       "1  Half Space Classifier(Perceptron) 80:20  0.706250\n",
       "2  Half Space Classifier(Perceptron) 90:10  0.743750\n",
       "3                Logistic regression 70:30  0.722917\n",
       "4                Logistic regression 80:20  0.740625"
      ]
     },
     "execution_count": 624,
     "metadata": {},
     "output_type": "execute_result"
    }
   ],
   "source": [
    "m=accuracy_score(y_test,lr.predict(X_test))\n",
    "Perfomance=Perfomance.append({\"Classifier\":\"Logistic regression 80:20\",'Accuracy':m},ignore_index=True)\n",
    "Perfomance"
   ]
  },
  {
   "cell_type": "markdown",
   "metadata": {},
   "source": [
    "### Logistic regression using Standard Gradient Descent algorithm with split 90:10"
   ]
  },
  {
   "cell_type": "code",
   "execution_count": 625,
   "metadata": {},
   "outputs": [],
   "source": [
    "#90% training data\n",
    "X_train, X_test, y_train, y_test = train_test_split(scaled_features, target, test_size=0.1, random_state=42) "
   ]
  },
  {
   "cell_type": "code",
   "execution_count": 626,
   "metadata": {},
   "outputs": [
    {
     "data": {
      "text/plain": [
       "LogisticRegression(C=1.0, class_weight=None, dual=False, fit_intercept=True,\n",
       "                   intercept_scaling=1, l1_ratio=None, max_iter=100,\n",
       "                   multi_class='warn', n_jobs=None, penalty='l2',\n",
       "                   random_state=None, solver='warn', tol=0.0001, verbose=0,\n",
       "                   warm_start=False)"
      ]
     },
     "execution_count": 626,
     "metadata": {},
     "output_type": "execute_result"
    }
   ],
   "source": [
    "lr=LogisticRegression()\n",
    "lr.fit(X_train,y_train)"
   ]
  },
  {
   "cell_type": "code",
   "execution_count": 627,
   "metadata": {},
   "outputs": [
    {
     "name": "stdout",
     "output_type": "stream",
     "text": [
      "              precision    recall  f1-score   support\n",
      "\n",
      "           0       0.71      0.71      0.71        72\n",
      "           1       0.76      0.76      0.76        88\n",
      "\n",
      "    accuracy                           0.74       160\n",
      "   macro avg       0.73      0.73      0.73       160\n",
      "weighted avg       0.74      0.74      0.74       160\n",
      "\n"
     ]
    }
   ],
   "source": [
    "print(classification_report(y_test,lr.predict(X_test)))"
   ]
  },
  {
   "cell_type": "code",
   "execution_count": 628,
   "metadata": {},
   "outputs": [
    {
     "data": {
      "text/html": [
       "<div>\n",
       "<style scoped>\n",
       "    .dataframe tbody tr th:only-of-type {\n",
       "        vertical-align: middle;\n",
       "    }\n",
       "\n",
       "    .dataframe tbody tr th {\n",
       "        vertical-align: top;\n",
       "    }\n",
       "\n",
       "    .dataframe thead th {\n",
       "        text-align: right;\n",
       "    }\n",
       "</style>\n",
       "<table border=\"1\" class=\"dataframe\">\n",
       "  <thead>\n",
       "    <tr style=\"text-align: right;\">\n",
       "      <th></th>\n",
       "      <th>Classifier</th>\n",
       "      <th>Accuracy</th>\n",
       "    </tr>\n",
       "  </thead>\n",
       "  <tbody>\n",
       "    <tr>\n",
       "      <th>0</th>\n",
       "      <td>Half Space Classifier(Perceptron) 70:30</td>\n",
       "      <td>0.702083</td>\n",
       "    </tr>\n",
       "    <tr>\n",
       "      <th>1</th>\n",
       "      <td>Half Space Classifier(Perceptron) 80:20</td>\n",
       "      <td>0.706250</td>\n",
       "    </tr>\n",
       "    <tr>\n",
       "      <th>2</th>\n",
       "      <td>Half Space Classifier(Perceptron) 90:10</td>\n",
       "      <td>0.743750</td>\n",
       "    </tr>\n",
       "    <tr>\n",
       "      <th>3</th>\n",
       "      <td>Logistic regression 70:30</td>\n",
       "      <td>0.722917</td>\n",
       "    </tr>\n",
       "    <tr>\n",
       "      <th>4</th>\n",
       "      <td>Logistic regression 80:20</td>\n",
       "      <td>0.740625</td>\n",
       "    </tr>\n",
       "    <tr>\n",
       "      <th>5</th>\n",
       "      <td>Logistic regression 90:10</td>\n",
       "      <td>0.737500</td>\n",
       "    </tr>\n",
       "  </tbody>\n",
       "</table>\n",
       "</div>"
      ],
      "text/plain": [
       "                                Classifier  Accuracy\n",
       "0  Half Space Classifier(Perceptron) 70:30  0.702083\n",
       "1  Half Space Classifier(Perceptron) 80:20  0.706250\n",
       "2  Half Space Classifier(Perceptron) 90:10  0.743750\n",
       "3                Logistic regression 70:30  0.722917\n",
       "4                Logistic regression 80:20  0.740625\n",
       "5                Logistic regression 90:10  0.737500"
      ]
     },
     "execution_count": 628,
     "metadata": {},
     "output_type": "execute_result"
    }
   ],
   "source": [
    "m=accuracy_score(y_test,lr.predict(X_test))\n",
    "Perfomance=Perfomance.append({\"Classifier\":\"Logistic regression 90:10\",'Accuracy':m},ignore_index=True)\n",
    "Perfomance"
   ]
  },
  {
   "cell_type": "markdown",
   "metadata": {},
   "source": [
    "### Logistic regression using Stochastic Standard Gradient Descent algorithm with split 70:30"
   ]
  },
  {
   "cell_type": "code",
   "execution_count": 629,
   "metadata": {},
   "outputs": [],
   "source": [
    "#70% training data\n",
    "X_train, X_test, y_train, y_test = train_test_split(scaled_features, target, test_size=0.3, random_state=42) "
   ]
  },
  {
   "cell_type": "code",
   "execution_count": 630,
   "metadata": {},
   "outputs": [],
   "source": [
    "lrSGD=SGDClassifier(loss=\"log\")"
   ]
  },
  {
   "cell_type": "code",
   "execution_count": 631,
   "metadata": {},
   "outputs": [
    {
     "data": {
      "text/plain": [
       "SGDClassifier(alpha=0.0001, average=False, class_weight=None,\n",
       "              early_stopping=False, epsilon=0.1, eta0=0.0, fit_intercept=True,\n",
       "              l1_ratio=0.15, learning_rate='optimal', loss='log', max_iter=1000,\n",
       "              n_iter_no_change=5, n_jobs=None, penalty='l2', power_t=0.5,\n",
       "              random_state=None, shuffle=True, tol=0.001,\n",
       "              validation_fraction=0.1, verbose=0, warm_start=False)"
      ]
     },
     "execution_count": 631,
     "metadata": {},
     "output_type": "execute_result"
    }
   ],
   "source": [
    "lrSGD.fit(X_train,y_train)"
   ]
  },
  {
   "cell_type": "code",
   "execution_count": 632,
   "metadata": {},
   "outputs": [
    {
     "name": "stdout",
     "output_type": "stream",
     "text": [
      "              precision    recall  f1-score   support\n",
      "\n",
      "           0       0.68      0.67      0.68       213\n",
      "           1       0.74      0.75      0.75       267\n",
      "\n",
      "    accuracy                           0.72       480\n",
      "   macro avg       0.71      0.71      0.71       480\n",
      "weighted avg       0.72      0.72      0.72       480\n",
      "\n"
     ]
    }
   ],
   "source": [
    "print(classification_report(y_test,lrSGD.predict(X_test)))"
   ]
  },
  {
   "cell_type": "code",
   "execution_count": 633,
   "metadata": {},
   "outputs": [
    {
     "data": {
      "text/html": [
       "<div>\n",
       "<style scoped>\n",
       "    .dataframe tbody tr th:only-of-type {\n",
       "        vertical-align: middle;\n",
       "    }\n",
       "\n",
       "    .dataframe tbody tr th {\n",
       "        vertical-align: top;\n",
       "    }\n",
       "\n",
       "    .dataframe thead th {\n",
       "        text-align: right;\n",
       "    }\n",
       "</style>\n",
       "<table border=\"1\" class=\"dataframe\">\n",
       "  <thead>\n",
       "    <tr style=\"text-align: right;\">\n",
       "      <th></th>\n",
       "      <th>Classifier</th>\n",
       "      <th>Accuracy</th>\n",
       "    </tr>\n",
       "  </thead>\n",
       "  <tbody>\n",
       "    <tr>\n",
       "      <th>0</th>\n",
       "      <td>Half Space Classifier(Perceptron) 70:30</td>\n",
       "      <td>0.702083</td>\n",
       "    </tr>\n",
       "    <tr>\n",
       "      <th>1</th>\n",
       "      <td>Half Space Classifier(Perceptron) 80:20</td>\n",
       "      <td>0.706250</td>\n",
       "    </tr>\n",
       "    <tr>\n",
       "      <th>2</th>\n",
       "      <td>Half Space Classifier(Perceptron) 90:10</td>\n",
       "      <td>0.743750</td>\n",
       "    </tr>\n",
       "    <tr>\n",
       "      <th>3</th>\n",
       "      <td>Logistic regression 70:30</td>\n",
       "      <td>0.722917</td>\n",
       "    </tr>\n",
       "    <tr>\n",
       "      <th>4</th>\n",
       "      <td>Logistic regression 80:20</td>\n",
       "      <td>0.740625</td>\n",
       "    </tr>\n",
       "    <tr>\n",
       "      <th>5</th>\n",
       "      <td>Logistic regression 90:10</td>\n",
       "      <td>0.737500</td>\n",
       "    </tr>\n",
       "    <tr>\n",
       "      <th>6</th>\n",
       "      <td>Logistic regression SGD 70:30</td>\n",
       "      <td>0.716667</td>\n",
       "    </tr>\n",
       "  </tbody>\n",
       "</table>\n",
       "</div>"
      ],
      "text/plain": [
       "                                Classifier  Accuracy\n",
       "0  Half Space Classifier(Perceptron) 70:30  0.702083\n",
       "1  Half Space Classifier(Perceptron) 80:20  0.706250\n",
       "2  Half Space Classifier(Perceptron) 90:10  0.743750\n",
       "3                Logistic regression 70:30  0.722917\n",
       "4                Logistic regression 80:20  0.740625\n",
       "5                Logistic regression 90:10  0.737500\n",
       "6            Logistic regression SGD 70:30  0.716667"
      ]
     },
     "execution_count": 633,
     "metadata": {},
     "output_type": "execute_result"
    }
   ],
   "source": [
    "m=accuracy_score(y_test,lrSGD.predict(X_test))\n",
    "Perfomance=Perfomance.append({\"Classifier\":\"Logistic regression SGD 70:30\",'Accuracy':m},ignore_index=True)\n",
    "Perfomance"
   ]
  },
  {
   "cell_type": "markdown",
   "metadata": {},
   "source": [
    "### Logistic regression using Stochastic Standard Gradient Descent algorithm with split 80:20"
   ]
  },
  {
   "cell_type": "code",
   "execution_count": 634,
   "metadata": {},
   "outputs": [
    {
     "data": {
      "text/plain": [
       "SGDClassifier(alpha=0.0001, average=False, class_weight=None,\n",
       "              early_stopping=False, epsilon=0.1, eta0=0.0, fit_intercept=True,\n",
       "              l1_ratio=0.15, learning_rate='optimal', loss='log', max_iter=1000,\n",
       "              n_iter_no_change=5, n_jobs=None, penalty='l2', power_t=0.5,\n",
       "              random_state=None, shuffle=True, tol=0.001,\n",
       "              validation_fraction=0.1, verbose=0, warm_start=False)"
      ]
     },
     "execution_count": 634,
     "metadata": {},
     "output_type": "execute_result"
    }
   ],
   "source": [
    "#80% training data\n",
    "X_train, X_test, y_train, y_test = train_test_split(scaled_features, target, test_size=0.2, random_state=42) \n",
    "lrSGD=SGDClassifier(loss=\"log\")\n",
    "lrSGD.fit(X_train,y_train)"
   ]
  },
  {
   "cell_type": "code",
   "execution_count": 635,
   "metadata": {},
   "outputs": [
    {
     "name": "stdout",
     "output_type": "stream",
     "text": [
      "              precision    recall  f1-score   support\n",
      "\n",
      "           0       0.69      0.72      0.71       141\n",
      "           1       0.77      0.74      0.76       179\n",
      "\n",
      "    accuracy                           0.73       320\n",
      "   macro avg       0.73      0.73      0.73       320\n",
      "weighted avg       0.74      0.73      0.73       320\n",
      "\n"
     ]
    }
   ],
   "source": [
    "print(classification_report(y_test,lrSGD.predict(X_test)))"
   ]
  },
  {
   "cell_type": "code",
   "execution_count": 636,
   "metadata": {},
   "outputs": [
    {
     "data": {
      "text/html": [
       "<div>\n",
       "<style scoped>\n",
       "    .dataframe tbody tr th:only-of-type {\n",
       "        vertical-align: middle;\n",
       "    }\n",
       "\n",
       "    .dataframe tbody tr th {\n",
       "        vertical-align: top;\n",
       "    }\n",
       "\n",
       "    .dataframe thead th {\n",
       "        text-align: right;\n",
       "    }\n",
       "</style>\n",
       "<table border=\"1\" class=\"dataframe\">\n",
       "  <thead>\n",
       "    <tr style=\"text-align: right;\">\n",
       "      <th></th>\n",
       "      <th>Classifier</th>\n",
       "      <th>Accuracy</th>\n",
       "    </tr>\n",
       "  </thead>\n",
       "  <tbody>\n",
       "    <tr>\n",
       "      <th>0</th>\n",
       "      <td>Half Space Classifier(Perceptron) 70:30</td>\n",
       "      <td>0.702083</td>\n",
       "    </tr>\n",
       "    <tr>\n",
       "      <th>1</th>\n",
       "      <td>Half Space Classifier(Perceptron) 80:20</td>\n",
       "      <td>0.706250</td>\n",
       "    </tr>\n",
       "    <tr>\n",
       "      <th>2</th>\n",
       "      <td>Half Space Classifier(Perceptron) 90:10</td>\n",
       "      <td>0.743750</td>\n",
       "    </tr>\n",
       "    <tr>\n",
       "      <th>3</th>\n",
       "      <td>Logistic regression 70:30</td>\n",
       "      <td>0.722917</td>\n",
       "    </tr>\n",
       "    <tr>\n",
       "      <th>4</th>\n",
       "      <td>Logistic regression 80:20</td>\n",
       "      <td>0.740625</td>\n",
       "    </tr>\n",
       "    <tr>\n",
       "      <th>5</th>\n",
       "      <td>Logistic regression 90:10</td>\n",
       "      <td>0.737500</td>\n",
       "    </tr>\n",
       "    <tr>\n",
       "      <th>6</th>\n",
       "      <td>Logistic regression SGD 70:30</td>\n",
       "      <td>0.716667</td>\n",
       "    </tr>\n",
       "    <tr>\n",
       "      <th>7</th>\n",
       "      <td>Logistic regression SGD 80:20</td>\n",
       "      <td>0.734375</td>\n",
       "    </tr>\n",
       "  </tbody>\n",
       "</table>\n",
       "</div>"
      ],
      "text/plain": [
       "                                Classifier  Accuracy\n",
       "0  Half Space Classifier(Perceptron) 70:30  0.702083\n",
       "1  Half Space Classifier(Perceptron) 80:20  0.706250\n",
       "2  Half Space Classifier(Perceptron) 90:10  0.743750\n",
       "3                Logistic regression 70:30  0.722917\n",
       "4                Logistic regression 80:20  0.740625\n",
       "5                Logistic regression 90:10  0.737500\n",
       "6            Logistic regression SGD 70:30  0.716667\n",
       "7            Logistic regression SGD 80:20  0.734375"
      ]
     },
     "execution_count": 636,
     "metadata": {},
     "output_type": "execute_result"
    }
   ],
   "source": [
    "m=accuracy_score(y_test,lrSGD.predict(X_test))\n",
    "Perfomance=Perfomance.append({\"Classifier\":\"Logistic regression SGD 80:20\",'Accuracy':m},ignore_index=True)\n",
    "Perfomance"
   ]
  },
  {
   "cell_type": "markdown",
   "metadata": {},
   "source": [
    "### Logistic regression using Stochastic Standard Gradient Descent algorithm with split 90:10"
   ]
  },
  {
   "cell_type": "code",
   "execution_count": 637,
   "metadata": {},
   "outputs": [
    {
     "data": {
      "text/plain": [
       "SGDClassifier(alpha=0.0001, average=False, class_weight=None,\n",
       "              early_stopping=False, epsilon=0.1, eta0=0.0, fit_intercept=True,\n",
       "              l1_ratio=0.15, learning_rate='optimal', loss='log', max_iter=1000,\n",
       "              n_iter_no_change=5, n_jobs=None, penalty='l2', power_t=0.5,\n",
       "              random_state=None, shuffle=True, tol=0.001,\n",
       "              validation_fraction=0.1, verbose=0, warm_start=False)"
      ]
     },
     "execution_count": 637,
     "metadata": {},
     "output_type": "execute_result"
    }
   ],
   "source": [
    "#90% training data\n",
    "X_train, X_test, y_train, y_test = train_test_split(scaled_features, target, test_size=0.1, random_state=42) \n",
    "lrSGD=SGDClassifier(loss=\"log\")\n",
    "lrSGD.fit(X_train,y_train)"
   ]
  },
  {
   "cell_type": "code",
   "execution_count": 638,
   "metadata": {},
   "outputs": [
    {
     "name": "stdout",
     "output_type": "stream",
     "text": [
      "              precision    recall  f1-score   support\n",
      "\n",
      "           0       0.70      0.68      0.69        72\n",
      "           1       0.74      0.76      0.75        88\n",
      "\n",
      "    accuracy                           0.73       160\n",
      "   macro avg       0.72      0.72      0.72       160\n",
      "weighted avg       0.72      0.72      0.72       160\n",
      "\n"
     ]
    }
   ],
   "source": [
    "print(classification_report(y_test,lrSGD.predict(X_test)))"
   ]
  },
  {
   "cell_type": "markdown",
   "metadata": {},
   "source": [
    "### Evaluation summary"
   ]
  },
  {
   "cell_type": "code",
   "execution_count": 639,
   "metadata": {},
   "outputs": [
    {
     "data": {
      "text/html": [
       "<div>\n",
       "<style scoped>\n",
       "    .dataframe tbody tr th:only-of-type {\n",
       "        vertical-align: middle;\n",
       "    }\n",
       "\n",
       "    .dataframe tbody tr th {\n",
       "        vertical-align: top;\n",
       "    }\n",
       "\n",
       "    .dataframe thead th {\n",
       "        text-align: right;\n",
       "    }\n",
       "</style>\n",
       "<table border=\"1\" class=\"dataframe\">\n",
       "  <thead>\n",
       "    <tr style=\"text-align: right;\">\n",
       "      <th></th>\n",
       "      <th>Classifier</th>\n",
       "      <th>Accuracy</th>\n",
       "    </tr>\n",
       "  </thead>\n",
       "  <tbody>\n",
       "    <tr>\n",
       "      <th>0</th>\n",
       "      <td>Half Space Classifier(Perceptron) 70:30</td>\n",
       "      <td>0.702083</td>\n",
       "    </tr>\n",
       "    <tr>\n",
       "      <th>1</th>\n",
       "      <td>Half Space Classifier(Perceptron) 80:20</td>\n",
       "      <td>0.706250</td>\n",
       "    </tr>\n",
       "    <tr>\n",
       "      <th>2</th>\n",
       "      <td>Half Space Classifier(Perceptron) 90:10</td>\n",
       "      <td>0.743750</td>\n",
       "    </tr>\n",
       "    <tr>\n",
       "      <th>3</th>\n",
       "      <td>Logistic regression 70:30</td>\n",
       "      <td>0.722917</td>\n",
       "    </tr>\n",
       "    <tr>\n",
       "      <th>4</th>\n",
       "      <td>Logistic regression 80:20</td>\n",
       "      <td>0.740625</td>\n",
       "    </tr>\n",
       "    <tr>\n",
       "      <th>5</th>\n",
       "      <td>Logistic regression 90:10</td>\n",
       "      <td>0.737500</td>\n",
       "    </tr>\n",
       "    <tr>\n",
       "      <th>6</th>\n",
       "      <td>Logistic regression SGD 70:30</td>\n",
       "      <td>0.716667</td>\n",
       "    </tr>\n",
       "    <tr>\n",
       "      <th>7</th>\n",
       "      <td>Logistic regression SGD 80:20</td>\n",
       "      <td>0.734375</td>\n",
       "    </tr>\n",
       "    <tr>\n",
       "      <th>8</th>\n",
       "      <td>Logistic regression SGD 90:10</td>\n",
       "      <td>0.725000</td>\n",
       "    </tr>\n",
       "  </tbody>\n",
       "</table>\n",
       "</div>"
      ],
      "text/plain": [
       "                                Classifier  Accuracy\n",
       "0  Half Space Classifier(Perceptron) 70:30  0.702083\n",
       "1  Half Space Classifier(Perceptron) 80:20  0.706250\n",
       "2  Half Space Classifier(Perceptron) 90:10  0.743750\n",
       "3                Logistic regression 70:30  0.722917\n",
       "4                Logistic regression 80:20  0.740625\n",
       "5                Logistic regression 90:10  0.737500\n",
       "6            Logistic regression SGD 70:30  0.716667\n",
       "7            Logistic regression SGD 80:20  0.734375\n",
       "8            Logistic regression SGD 90:10  0.725000"
      ]
     },
     "execution_count": 639,
     "metadata": {},
     "output_type": "execute_result"
    }
   ],
   "source": [
    "m=accuracy_score(y_test,lrSGD.predict(X_test))\n",
    "Perfomance=Perfomance.append({\"Classifier\":\"Logistic regression SGD 90:10\",'Accuracy':m},ignore_index=True)\n",
    "Perfomance"
   ]
  },
  {
   "cell_type": "code",
   "execution_count": 640,
   "metadata": {},
   "outputs": [
    {
     "name": "stdout",
     "output_type": "stream",
     "text": [
      "1    88\n",
      "0    72\n",
      "Name: quality, dtype: int64\n"
     ]
    },
    {
     "data": {
      "text/plain": [
       "Text(0, 0.5, 'Test')"
      ]
     },
     "execution_count": 640,
     "metadata": {},
     "output_type": "execute_result"
    },
    {
     "data": {
      "image/png": "[encoded data removed]",
      "text/plain": [
       "<Figure size 720x576 with 1 Axes>"
      ]
     },
     "metadata": {
      "needs_background": "light"
     },
     "output_type": "display_data"
    }
   ],
   "source": [
    "X=[0,1,2,3,4,5,6,7,8,9]\n",
    "Y=Perfomance['Classifier']\n",
    "print(y_test.value_counts())\n",
    "Perfomance.plot(figsize=(10,8))\n",
    "l=plt.xticks(X, Y, rotation ='vertical') \n",
    "plt.title(\"Classifier perfomance\")\n",
    "plt.ylabel(\"Test\")"
   ]
  },
  {
   "cell_type": "markdown",
   "metadata": {},
   "source": [
    "### Logistic regression using Gradient Descent from scratch"
   ]
  },
  {
   "cell_type": "code",
   "execution_count": 641,
   "metadata": {},
   "outputs": [],
   "source": [
    "from sklearn.datasets.samples_generator import make_blobs\n",
    "from matplotlib import pyplot as plt\n",
    "from pandas import DataFrame \n",
    "import numpy as np\n",
    "X, Y = make_blobs(n_samples=100, centers=2, n_features=2, cluster_std=5, random_state=11)\n",
    "m = 100"
   ]
  },
  {
   "cell_type": "code",
   "execution_count": 642,
   "metadata": {},
   "outputs": [],
   "source": [
    "#returns an array containing sigmoid of the input array\n",
    "def sigmoid(z):\n",
    "    return 1 / (1 + np.exp(-z))\n",
    "\n",
    "#returns an array containing the predictions of our input array\n",
    "def hy(w,X):\n",
    "    z = np.array(w[0] + w[1]*np.array(X[:,0]) + w[2]*np.array(X[:,1]))\n",
    "    return sigmoid(z)\n",
    "\n",
    "#cost function\n",
    "def cost(w, X, Y):\n",
    "    y_predictions = hy(w,X)   #assigning the prediction values\n",
    "    return -1 * sum(Y*np.log(y_predictions) + (1-Y)*np.log(1-y_predictions))"
   ]
  },
  {
   "cell_type": "code",
   "execution_count": 643,
   "metadata": {},
   "outputs": [],
   "source": [
    "#gradient descent\n",
    "def partial_derivatives(w, X, Y):\n",
    "    y_predictions = hy(w,X)\n",
    "    j = [0]*3\n",
    "    j[0] = -1 * sum(Y*(1-y_predictions) - (1-Y)*y_predictions)   #storing partial derivatives\n",
    "    j[1] = -1 * sum(Y*(1-y_predictions)*X[:,0] - (1-Y)*y_predictions*X[:,0])\n",
    "    j[2] = -1 * sum(Y*(1-y_predictions)*X[:,1] - (1-Y)*y_predictions*X[:,1])\n",
    "    return j  #returns array containg partial derivatives\n",
    "\n",
    "def gradient_descent(w_new, w_prev, learning_rate):\n",
    "    print(w_prev)\n",
    "    print(cost(w_prev, X, Y))\n",
    "    j=0\n",
    "    while True:\n",
    "        w_prev = w_new    #updating weights in each iteration\n",
    "        w0 = w_prev[0] - learning_rate*partial_derivatives(w_prev, X, Y)[0]\n",
    "        w1 = w_prev[1] - learning_rate*partial_derivatives(w_prev, X, Y)[1]\n",
    "        w2 = w_prev[2] - learning_rate*partial_derivatives(w_prev, X, Y)[2]\n",
    "        w_new = [w0, w1, w2]\n",
    "        print(w_new)\n",
    "        print(cost(w_new, X, Y))\n",
    "        if (w_new[0]-w_prev[0])**2 + (w_new[1]-w_prev[1])**2 + (w_new[2]-w_prev[2])**2 <pow(10,-6):\n",
    "            return w_new\n",
    "        \n",
    "        if j>100: \n",
    "            return w_new\n",
    "        j+=1\n",
    "        \n"
   ]
  },
  {
   "cell_type": "code",
   "execution_count": 644,
   "metadata": {},
   "outputs": [
    {
     "name": "stdout",
     "output_type": "stream",
     "text": [
      "[1, 1, 1]\n",
      "46.31288789708367\n",
      "[1.1079507245584042, 0.2969837369128765, 1.2186409189454974]\n",
      "18.415631239815163\n",
      "[1.1567134530171574, 0.16183333416345108, 1.1120359908759199]\n",
      "15.764970311820319\n",
      "[1.1956340452627843, 0.11168372438532043, 1.0065681072990342]\n",
      "14.390975297691252\n",
      "[1.228800150098776, 0.10254160300986918, 0.9108147076874951]\n",
      "13.413380981005371\n",
      "[1.2583864140697623, 0.1084745674620498, 0.8272651865221922]\n",
      "12.674975027338851\n",
      "[1.2854398262131148, 0.11620153726123775, 0.7576199527770213]\n",
      "12.161030223452148\n",
      "[1.3101833923936477, 0.12237837834117099, 0.7036191340300149]\n",
      "11.845771629675864\n",
      "[1.332714419842769, 0.12705763656798197, 0.6656067571307069]\n",
      "11.674958378542106\n",
      "[1.3533213312381038, 0.13062937310604156, 0.6416698988168651]\n",
      "11.587071734131417\n",
      "[1.3724268439083172, 0.1333680072233094, 0.6282570895102525]\n",
      "11.536957041318509\n",
      "[1.3904325176763765, 0.13551783359970423, 0.6216372460538414]\n",
      "11.501390505989455\n",
      "[1.4076333833264856, 0.1372917989425709, 0.6189421205109624]\n",
      "11.471295759293422\n",
      "[1.4242164339417467, 0.13883988477799364, 0.6183570291530585]\n",
      "11.443708984105768\n",
      "[1.4402922954937347, 0.14025276737335812, 0.6188585305363395]\n",
      "11.41772915986709\n",
      "[1.4559259253661294, 0.14158065965047797, 0.6199042932741822]\n",
      "11.393060714789339\n",
      "[1.4711570400757423, 0.14285037756004831, 0.6212157347476507]\n",
      "11.36957556133133\n",
      "[1.486011850439695, 0.1440761417494489, 0.6226517384379966]\n",
      "11.34719289441118\n",
      "[1.5005093570806933, 0.14526565424828078, 0.6241411763453396]\n",
      "11.325847369754651\n",
      "[1.5146646328177142, 0.14642327636199734, 0.6256482069818937]\n",
      "11.305480614849243\n",
      "[1.528490514694039, 0.14755166437802664, 0.6271547312742187]\n",
      "11.28603879485463\n",
      "[1.541998478005212, 0.1486525938672793, 0.6286515803812697]\n",
      "11.267471763396085\n",
      "[1.5551990923045251, 0.14972737754099438, 0.6301340959745733]\n",
      "11.24973264647231\n",
      "[1.5681022646832268, 0.15077707578818322, 0.6315999105961482]\n",
      "11.232777558867047\n",
      "[1.5807173742934226, 0.15180260409758273, 0.6330478298680824]\n",
      "11.216565371836792\n",
      "[1.5930533510006526, 0.15280478808710818, 0.6344772673416226]\n",
      "11.201057508408008\n",
      "[1.605118724959681, 0.15378439230761082, 0.6358879572963023]\n",
      "11.186217758254214\n",
      "[1.6169216607893893, 0.1547421356590947, 0.6372798077731446]\n",
      "11.172012108647953\n",
      "[1.628469983332977, 0.1556787000191178, 0.6386528246368862]\n",
      "11.158408589444207\n",
      "[1.639771198608689, 0.15659473536070054, 0.6400070717728902]\n",
      "11.145377130615632\n",
      "[1.6508325118261973, 0.15749086304586515, 0.6413426497703579]\n",
      "11.132889431134373\n",
      "[1.6616608434621127, 0.1583676781436362, 0.6426596841318652]\n",
      "11.120918838162167\n",
      "[1.6722628439337317, 0.159225751211634, 0.6439583184429983]\n",
      "11.109440235632343\n",
      "[1.6826449071756564, 0.1600656297663522, 0.6452387101639456]\n",
      "11.098429941403474\n",
      "[1.692813183301257, 0.1608878395604672, 0.6465010278390828]\n",
      "11.087865612246658\n",
      "[1.70277359046605, 0.1616928857298812, 0.6477454490998356]\n",
      "11.077726155999716\n",
      "[1.712531826014864, 0.16248125384493653, 0.6489721591331988]\n",
      "11.067991650284107\n",
      "[1.722093376974934, 0.16325341088542303, 0.6501813494413544]\n",
      "11.058643267237132\n",
      "[1.731463529945418, 0.16400980615129784, 0.6513732167971702]\n",
      "11.049663203761853\n",
      "[1.7406473804264964, 0.16475087211690695, 0.6525479623418018]\n",
      "11.041034616842559\n",
      "[1.7496498416261874, 0.16547702523426086, 0.6537057907925126]\n",
      "11.032741563514268\n",
      "[1.7584756527793042, 0.16618866668963758, 0.6548469097405826]\n",
      "11.02476894511196\n",
      "[1.7671293870100229, 0.16688618311703257, 0.6559715290256494]\n",
      "11.017102455457419\n",
      "[1.7756154587670463, 0.167569947271483, 0.6570798601765098]\n",
      "11.009728532672732\n",
      "[1.7839381308581894, 0.16824031866496097, 0.658172115910625]\n",
      "11.002634314335953\n",
      "[1.7921015211092732, 0.16889764416727526, 0.6592485096859748]\n",
      "10.995807595718826\n",
      "[1.8001096086704649, 0.16954225857421576, 0.6603092552998745]\n",
      "10.989236790869553\n",
      "[1.8079662399915963, 0.170174485145001, 0.6613545665300731]\n",
      "10.982910896322876\n",
      "[1.8156751344865187, 0.17079463611094456, 0.6623846568140017]\n",
      "10.97681945723858\n",
      "[1.8232398899051878, 0.17140301315710912, 0.6633997389624955]\n",
      "10.97095253578615\n",
      "[1.8306639874309174, 0.1719999078786042, 0.6644000249046897]\n",
      "10.965300681608165\n",
      "[1.8379507965190736, 0.17258560221306135, 0.6653857254611298]\n",
      "10.959854904209157\n",
      "[1.8451035794923996, 0.17316036885072342, 0.6663570501424171]\n",
      "10.954606647128786\n",
      "[1.8521254959071642, 0.17372447162348356, 0.6673142069709795]\n",
      "10.949547763769841\n",
      "[1.8590196067033928, 0.17427816587412093, 0.6682574023237825]\n",
      "10.944670494762102\n",
      "[1.865788878151581, 0.17482169880689943, 0.6691868407940033]\n",
      "10.939967446752153\n",
      "[1.8724361856074887, 0.17535530982061878, 0.6701027250698808]\n",
      "10.935431572518366\n",
      "[1.878964317085869, 0.17587923082513135, 0.6710052558291174]\n",
      "10.931056152317938\n",
      "[1.8853759766632927, 0.17639368654228105, 0.6718946316473622]\n",
      "10.92683477638008\n",
      "[1.8916737877195882, 0.17689889479214957, 0.6727710489194433]\n",
      "10.922761328466303\n",
      "[1.8978602960268172, 0.17739506676544486, 0.6736347017921366]\n",
      "10.918829970424586\n",
      "[1.9039379726941483, 0.17788240728281188, 0.6744857821073732]\n",
      "10.915035127669876\n",
      "[1.9099092169764755, 0.17836111504179397, 0.6753244793548869]\n",
      "10.911371475528336\n",
      "[1.9157763589541412, 0.17883138285213054, 0.6761509806333942]\n",
      "10.90783392638781\n",
      "[1.9215416620906753, 0.17929339786003315, 0.6769654706194849]\n",
      "10.904417617600616\n",
      "[1.9272073256750444, 0.17974734176203977, 0.6777681315434713]\n",
      "10.901117900089378\n",
      "[1.9327754871545064, 0.1801933910090146, 0.6785591431715183]\n",
      "10.89793032760988\n",
      "[1.9382482243638108, 0.18063171700082126, 0.6793386827934321]\n",
      "10.89485064662822\n",
      "[1.9436275576561324, 0.18106248627216812, 0.680106925215545]\n",
      "10.89187478677286\n",
      "[1.9489154519408178, 0.18148586067009423, 0.6808640427581857]\n",
      "10.888998851824773\n",
      "[1.9541138186327187, 0.1819019975235347, 0.681610205257265]\n",
      "10.886219111211554\n",
      "[1.9592245175176115, 0.182311049805379, 0.6823455800695571]\n",
      "10.883531991973898\n",
      "[1.9642493585379426, 0.18271316628741263, 0.6830703320812858]\n",
      "10.88093407117475\n",
      "[1.9691901035028918, 0.18310849168850585, 0.683784623719667]\n",
      "10.87842206872391\n",
      "[1.9740484677265229, 0.18349716681639747, 0.6844886149670878]\n",
      "10.875992840592295\n",
      "[1.9788261215975727, 0.18387932870339546, 0.6851824633776289]\n",
      "10.873643372392232\n",
      "[1.9835246920842329, 0.18425511073630244, 0.6858663240956675]\n",
      "10.871370773301594\n",
      "[1.9881457641770899, 0.1846246427808542, 0.6865403498763185]\n",
      "10.869172270310777\n",
      "[1.9926908822732126, 0.18498805130094298, 0.6872046911074956]\n",
      "10.867045202773681\n",
      "[1.9971615515042127, 0.18534545947288247, 0.6878594958333921]\n",
      "10.864987017244262\n",
      "[2.0015592390109487, 0.18569698729495807, 0.6885049097791999]\n",
      "10.86299526258199\n",
      "[2.0058853751673955, 0.1860427516924887, 0.6891410763769034]\n",
      "10.86106758531044\n",
      "[2.010141354756074, 0.18638286661862005, 0.6897681367919958]\n",
      "10.859201725214408\n",
      "[2.0143285380972933, 0.18671744315104996, 0.6903862299509849]\n",
      "10.857395511161544\n",
      "[2.0184482521343514, 0.18704658958488213, 0.6909954925695612]\n",
      "10.85564685713581\n",
      "[2.0225017914767167, 0.18737041152178882, 0.6915960591813196]\n",
      "10.853953758470753\n",
      "[2.0264904194031126, 0.18768901195565715, 0.6921880621669309]\n",
      "10.852314288271081\n",
      "[2.0304153688263216, 0.1880024913548799, 0.6927716317836712]\n",
      "10.850726594012192\n",
      "[2.0342778432214383, 0.1883109477414505, 0.6933468961952269]\n",
      "10.849188894307497\n",
      "[2.038079017519201, 0.18861447676700321, 0.6939139815016979]\n",
      "10.847699475834451\n",
      "[2.0418200389659598, 0.18891317178594222, 0.6944730117697328]\n",
      "10.846256690410431\n",
      "[2.0455020279517506, 0.18920712392578906, 0.6950241090627325]\n",
      "10.844858952210272\n",
      "[2.049126078807874, 0.18949642215487372, 0.6955673934710694]\n",
      "10.843504735117737\n",
      "[2.0526932605753077, 0.18978115334748888, 0.6961029831422691]\n",
      "10.842192570203835\n",
      "[2.056204617745216, 0.19006140234661853, 0.6966309943111114]\n",
      "10.840921043324945\n",
      "[2.0596611709727517, 0.19033725202434862, 0.6971515413296108]\n",
      "10.839688792834558\n",
      "[2.0630639177652936, 0.1906087833400611, 0.6976647366968386]\n",
      "10.838494507402476\n",
      "[2.066413833146202, 0.19087607539650664, 0.6981706910885573]\n",
      "10.83733692393598\n",
      "[2.0697118702951265, 0.1911392054938494, 0.6986695133866351]\n",
      "10.836214825597345\n",
      "[2.0729589611658437, 0.19139824918176906, 0.6991613107082174]\n",
      "10.835127039913068\n",
      "[2.0761560170825617, 0.191653280309704, 0.6996461884346327]\n",
      "10.834072436969683\n",
      "[2.0793039293155817, 0.19190437107531286, 0.7001242502400118]\n",
      "10.83304992769202\n",
      "[2.0824035696371617, 0.19215159207123225, 0.7005955981196045]\n",
      "10.832058462199537\n",
      "[2.0824035696371617, 0.19215159207123225, 0.7005955981196045]\n"
     ]
    }
   ],
   "source": [
    "w=[1,1,1]\n",
    "w = gradient_descent(w,w,0.0099)\n",
    "print(w)"
   ]
  },
  {
   "cell_type": "code",
   "execution_count": 645,
   "metadata": {},
   "outputs": [
    {
     "data": {
      "image/png": "[encoded data removed]",
      "text/plain": [
       "<Figure size 432x288 with 1 Axes>"
      ]
     },
     "metadata": {
      "needs_background": "light"
     },
     "output_type": "display_data"
    }
   ],
   "source": [
    "def equation(x):\n",
    "    return (-w[0]-w[1]*x)/w[2]\n",
    "\n",
    "\n",
    "def graph(formula, x_range):  \n",
    "    x = np.array(x_range)  \n",
    "    y = formula(x)  \n",
    "    plt.plot(x, y) \n",
    "\n",
    "df = DataFrame(dict(x=X[:,0], y=X[:,1], label=Y))\n",
    "colors = {0:'red', 1:'green'}\n",
    "fig, ax = plt.subplots()\n",
    "g = df.groupby('label')\n",
    "for key, group in g:\n",
    "    group.plot(ax=ax, kind='scatter', x='x', y='y', label=key, color=colors[key])\n",
    "graph(equation, range(-20,15))\n",
    "plt.xlabel('x0')\n",
    "plt.ylabel('x1')\n",
    "plt.show()\n"
   ]
  },
  {
   "cell_type": "code",
   "execution_count": null,
   "metadata": {},
   "outputs": [],
   "source": []
  },
  {
   "cell_type": "code",
   "execution_count": null,
   "metadata": {},
   "outputs": [],
   "source": []
  },
  {
   "cell_type": "code",
   "execution_count": null,
   "metadata": {},
   "outputs": [],
   "source": []
  }
 ],
 "metadata": {
  "kernelspec": {
   "display_name": "Python 3",
   "language": "python",
   "name": "python3"
  },
  "language_info": {
   "codemirror_mode": {
    "name": "ipython",
    "version": 3
   },
   "file_extension": ".py",
   "mimetype": "text/x-python",
   "name": "python",
   "nbconvert_exporter": "python",
   "pygments_lexer": "ipython3",
   "version": "3.7.3"
  }
 },
 "nbformat": 4,
 "nbformat_minor": 2
}
